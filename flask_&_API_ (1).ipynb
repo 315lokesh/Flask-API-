{
  "cells": [
    {
      "cell_type": "markdown",
      "metadata": {
        "id": "NDIm_VrAW5Kk"
      },
      "source": [
        "Que.1 What is a RESTful API?\n",
        "\n",
        "Ans:- REST API stands for REpresentational State Transfer API. It is a type of API (Application Programming Interface) that allows communication between different systems over the internet. REST APIs work by sending requests and receiving responses, typically in JSON format, between the client and server.\n",
        "\n",
        "REST APIs use HTTP methods (such as GET, POST, PUT, DELETE) to define actions that can be performed on resources. These methods align with CRUD (Create, Read, Update, Delete) operations, which are used to manipulate resources over the web\n",
        "\n",
        "- A request is sent from the client to the server via a web URL, using one of the HTTP methods. The server then responds with the requested resource, which could be HTML, XML, Image, or JSON, with JSON being the most commonly used format for modern web services.\n"
      ]
    },
    {
      "cell_type": "markdown",
      "metadata": {
        "id": "eQpRuTKuYbr0"
      },
      "source": [
        "Que.2  Explain the concept of API specification?\n",
        "\n",
        "Ans:- An API specification is a formal document that outlines how an API should function and interact with other systems.\n",
        "\n",
        "- It acts as a blueprint, defining the structure, data formats, and behavior of the API. This allows developers to understand how to use the API without needing to see the underlying code or implementation details.\n",
        "\n",
        "Detailed explanation:\n",
        "\n",
        "An API specification serves as a contract between the API provider and its users, ensuring consistent and predictable behavior.\n",
        "\n",
        "- It helps developers understand how to make requests to the API, what data to expect in return, and how to handle different scenarios.\n",
        "\n",
        "Content:\n",
        "API specifications typically include details about:\n",
        "\n",
        "Endpoints: The specific URLs where different API functionalities are accessed.\n",
        "\n",
        "**Methods**: The HTTP methods (GET, POST, PUT, DELETE, etc.) supported by each endpoint.\n",
        "\n",
        "**Parameters:** The input data required by the API, including their data types and formats.\n",
        "\n",
        "**Responses: **The structure and data types of the information returned by the API, including success and error responses.\n",
        "\n",
        "**Data Models:** The structure of the data exchanged between the API and its users.\n",
        "\n",
        "**Authentication and Authorization:** How users are authenticated and authorized to access the API."
      ]
    },
    {
      "cell_type": "markdown",
      "metadata": {
        "id": "ne7mUKSOaNsv"
      },
      "source": [
        "Que.3 What is Flask, and why is it popular for building API?\n",
        "\n",
        "Ans:- Flask is a lightweight web framework written in Python.\n",
        "It is used to create web applications and REST APIs.\n",
        "\n",
        "-  Flask is also called a microframework because it doesn't come with a lot of built-in tools — you add only what you need.\n",
        "\n",
        "\n",
        "**Why Flask is Popular for Building APIs:**\n",
        "\n",
        "Lightweight:- Flask is small and simple. You can build an API with just a few lines of code.\n",
        "\n",
        "Flexible:- You can customize everything — routing, error handling, responses, etc.\n",
        "\n",
        "Easy to Integrate:- Works well with databases like SQLite, PostgreSQL, MongoDB, etc\n",
        "\n",
        "Fast Development:- Great for quickly building and testing APIs for projects or startups.\n",
        "\n",
        "Extensible:- You can add extensions like Flask-SQLAlchemy, Flask-RESTful, etc\n",
        "\n",
        "Great for Learning:- Ideal for beginners to understand how web servers and HTTP requests work.\n",
        "\n"
      ]
    },
    {
      "cell_type": "markdown",
      "metadata": {
        "id": "nLfPLd12bvGc"
      },
      "source": [
        "Que.4 What is routing in Flask?\n",
        "\n",
        "Ans:- In Flask, routing is the mechanism that maps specific URLs to Python functions. When a user accesses a URL, Flask's routing system determines which function should be executed to handle that request.\n",
        "\n",
        "**Key Concepts:**\n",
        "\n",
        "URL Mapping: Routing establishes a connection between URLs and functions.\n",
        "@app.route() Decorator: This decorator is used to associate a URL with a specific function.\n",
        "\n",
        "View Functions: Functions that are associated with routes are called view functions. They generate the response that is sent back to the user's browser.\n",
        "\n",
        "Dynamic URLs: Flask allows you to create routes with dynamic parts, using type converters to enforce data types.\n",
        "\n",
        "HTTP Methods: Routes can be configured to respond to different HTTP methods (GET, POST, etc.)\n",
        "\n",
        "**How it Works**:\n",
        "\n",
        "A user sends a request to a specific URL.\n",
        "Flask's routing system matches the URL to a defined route.\n",
        "The corresponding view function is executed.\n",
        "The view function generates a response (e.g., HTML, JSON).\n",
        "Flask sends the response back to the user's browser."
      ]
    },
    {
      "cell_type": "markdown",
      "metadata": {
        "id": "wHbCCzX-cUjD"
      },
      "source": [
        "Que.5 How do you create a simple Flask application?\n",
        "\n",
        "Ans:- Install Flask:-\n",
        "\n",
        "        pip install flask\n",
        "***Create a Python file:- ***\n",
        "\n",
        "    from flask import Flask\n",
        "\n",
        "      app = Flask(__name__)  # Flask app banaya\n",
        "\n",
        "      @app.route('/')  #\n",
        "      def home():\n",
        "      return \" Welcome to My First Flask App!\"\n",
        "\n",
        "    @app.route('/about')\n",
        "    def about():\n",
        "    return \" This is Lokesh’s About Page.\"\n",
        "\n",
        "    if __name__ == '__main__':\n",
        "        app.run(debug=True)\n",
        "\n",
        "**Run the App:-**\n",
        "\n",
        "          python app.py\n",
        "\n"
      ]
    },
    {
      "cell_type": "markdown",
      "metadata": {
        "id": "x8HOwGscdeqN"
      },
      "source": [
        "Que.6 What are HTTP methods used in RESTful APIs?\n",
        "\n",
        "Ans:- RESTful APIs, the primary HTTP methods used for interacting with resources are GET, POST, PUT, PATCH, and DELETE. These methods correspond to the CRUD operations of Create, Read, Update, and Delete. Other methods exist, but these are the most frequently employed.\n",
        "Here's a breakdown of their functions:\n",
        "GET: Retrieves data from the server.\n",
        "POST: Creates new resources on the server.\n",
        "PUT: Replaces an entire existing resource with a new one.\n",
        "PATCH: Partially updates an existing resource.\n",
        "DELETE: Removes a resource from the server.\n",
        "\n"
      ]
    },
    {
      "cell_type": "markdown",
      "metadata": {
        "id": "uzJeYlb-fcua"
      },
      "source": [
        "Que.7 What is the purpose of the @app.route() decorator in Flask?\n",
        "\n",
        "Ans:- @app.route() is a decorator in Flask used to connect a URL path to a Python function.\n",
        "\n",
        "-  It tells Flask which URL should run which function.\n",
        "\n",
        "**its purpose:-**\n",
        "\n",
        "URL Mapping:\n",
        "It establishes a relationship between a URL endpoint and a function. When a request is made to that URL, Flask knows which function to call.\n",
        "\n",
        "Route Definition:\n",
        "The decorator allows you to define the structure of your web application by specifying the different routes (URLs) that your application will handle.\n",
        "\n",
        "Function Execution:\n",
        "When a matching URL is accessed, the decorated function is executed, generating the content that will be sent back to the user's browser.\n",
        "\n",
        "Simplified Routing:\n",
        "It provides a concise and readable way to define routes, making your code more organized and maintainable.\n",
        "\n",
        "Dynamic URLs:\n",
        "It supports dynamic URL segments, allowing you to capture parameters from the URL and pass them to the associated function.\n",
        "In essence, @app.route() is a core component of Flask that enables developers to create dynamic web applications by connecting URLs to specific actions within their code.\n",
        "\n"
      ]
    },
    {
      "cell_type": "markdown",
      "metadata": {
        "id": "6Z3JbpC6gJHC"
      },
      "source": [
        "Que.8  What is the difference between GET and POST HTTP methods?\n",
        "\n",
        "Ans:- The main difference between GET and POST HTTP methods lies in how they transmit data and their side effects. GET retrieves data from a server, with parameters appended to the URL, and is generally idempotent (safe to repeat). POST, on the other hand, sends data to the server, often to create or update resources, and is not inherently idempotent.\n",
        "\n",
        "\n",
        "**GET:**\n",
        "\n",
        "Purpose: Retrieves data from the server.\n",
        "Data Transmission: Data is appended to the URL as query parameters (e.g., ?name=value&anotherName=anotherValue).\n",
        "\n",
        "Visibility: Data is visible in the URL, making it potentially less secure for sensitive information.\n",
        "\n",
        "Restrictions: Limited by URL length, typically restricting the amount of data that can be sent.\n",
        "\n",
        "Caching: GET requests are cacheable by browsers and proxies.\n",
        "\n",
        "Idempotency: GET requests are considered idempotent, meaning multiple identical requests should have the same effect as a single request.\n",
        "\n",
        "Use Cases: Fetching resources, searching, filtering data\n",
        "\n",
        "POST:\n",
        "\n",
        "Purpose: Sends data to the server to create, update, or modify resources.\n",
        "Data Transmission: Data is sent in the request body, not the URL.\n",
        "\n",
        "\n",
        "Visibility: Data is not visible in the URL, offering improved security for sensitive information.\n",
        "\n",
        "Restrictions: No inherent limit on data size, suitable for uploading files or large datasets.\n",
        "\n",
        "Caching: POST requests are generally not cached.\n",
        "\n",
        "Idempotency: POST requests are generally not idempotent; multiple identical requests may result in multiple resource creations or modifications.\n",
        "\n",
        "Use Cases: Submitting forms, uploading files, creating new resources.\n",
        "\n",
        "\n",
        "\n"
      ]
    },
    {
      "cell_type": "markdown",
      "metadata": {
        "id": "JEVyjlSMhyKy"
      },
      "source": [
        "Que.9 How do you handle errors in Flask APIs?\n",
        "\n",
        "Ans:- Error handling in Flask APIs is crucial for providing a robust and user-friendly experience. Here's how you can handle errors effectively:\n",
        "\n",
        " 1. **Using try-except Blocks**\n",
        "\n",
        "- Wrap code that might raise exceptions within try blocks.\n",
        "- Use except blocks to catch specific exceptions and handle them gracefully.\n",
        "- This allows you to prevent application crashes and return meaningful error   messages.\n",
        "\n",
        "2. **HTTP Error Codes**\n",
        "Return appropriate HTTP status codes to indicate the type of error.\n",
        "Use codes like 400 for bad requests, 404 for not found, 500 for internal server errors, etc.\n",
        "\n",
        "3. **Custom Error Handlers**\n",
        "Use Flask's @app.errorhandler decorator to create custom error handlers.\n",
        "These handlers allow you to provide specific responses for different error types.\n",
        "\n",
        "4. Standardized Error Responses\n",
        "Use a consistent format for error responses (e.g., JSON).\n",
        "Include error messages, status codes, and potentially other relevant details.\n",
        "\n",
        "5. Logging Errors\n",
        "Use Flask's built-in logger (app.logger) to record errors.\n",
        "This helps in debugging and monitoring your application.\n",
        "\n",
        "6. Werkzeug Exceptions\n",
        "Flask uses Werkzeug for handling HTTP exceptions.\n",
        "You can raise these exceptions directly or create custom ones.\n",
        "Examples include BadRequest, Unauthorized, Forbidden, NotFound, etc.\n",
        "\n",
        "7. APIFlask Error Handling\n",
        "APIFlask provides features for error handling, including automatic JSON formatting for errors.\n",
        "It also allows custom error response processors and error classes.\n",
        "\n",
        "\n",
        "\n"
      ]
    },
    {
      "cell_type": "markdown",
      "metadata": {
        "id": "xcYnGBfofdLC"
      },
      "source": [
        "Que.10 How do you connect Flask to a SQL database?\n",
        "\n",
        "Ans:- To connect Flask to a SQL database, you can use either raw SQL with sqlite3 or MySQLdb, or more commonly, an ORM (Object Relational Mapper) like SQLAlchemy. Here's how you can do it step-by-step using Flask + SQLAlchemy:\n",
        "\n",
        "Flask doesn’t have a built-in way to handle databases, so it relies on SQLAlchemy, a powerful library that makes working with databases easier. SQLAlchemy provides an Object Relational Mapper (ORM), allowing developers to interact with databases using Python code instead of raw SQL.\n",
        "\n",
        "**This brings several advantages:**\n",
        "\n",
        "Simplifies database management.\n",
        "Improves security.\n",
        "Supports multiple database systems like SQLite, MySQL and PostgreSQL.\n",
        "Easily integrates with Flask using the Flask - SQLAlchemy extension.\n",
        "\n",
        "**Table of Content**\n",
        "\n",
        "- Installing Flask\n",
        "\n",
        "- Creating app.py\n",
        "\n",
        "- Setting Up SQLAlchemy\n",
        "\n",
        "- Creating Models\n",
        "\n",
        "- Creating the database\n",
        "\n",
        "- Making Migrations in database\n",
        "\n",
        "- Creating the Index Page Of the Application\n",
        "\n",
        "- Creating HTML page for form\n",
        "\n",
        "- Function to add data using the form to the database\n",
        "\n",
        "- Display data on Index Page\n",
        "\n",
        "- Deleting data from our database\n"
      ]
    },
    {
      "cell_type": "markdown",
      "metadata": {
        "id": "a-R3J8_djDIC"
      },
      "source": [
        " Que.11 What is the role of Flask-SQLAlchemy?\n",
        "\n",
        " Ans:-  Flask doesn’t have a built-in way to handle databases, so it relies on SQLAlchemy, a powerful library that makes working with databases easier. SQLAlchemy provides an Object Relational Mapper (ORM), allowing developers to interact with databases using Python code instead of raw SQL.\n",
        "\n",
        "-  Flask-SQLAlchemy is an extension for Flask that simplifies the process of using SQLAlchemy (a powerful Python ORM) with your Flask applications.\n",
        "\n",
        "- Flask-SQLAlchemy helps connect *your* Flask app to a SQL database easily and lets you work with the database using Python classes instead of writing raw SQL queries.\n",
        "\n",
        "**Database Connection Management:-** \tSimplifies connecting Flask to a database using a single configuration line.\n",
        "\n",
        " **ORM (Object Relational Mapper)**\tLets you use Python classes to create and interact with tables in the DB.\n",
        "\n",
        "**Migration Friendly**\tWorks well with migration tools like Flask-Migrate.\n",
        "\n",
        "***Session Handling\t***Automatically handles sessions for transactions (add, commit, rollback).\n",
        "\n",
        "**Integration with Flask App**\tSeamless integration using app.config and SQLAlchemy(app) constructor.\n",
        "\n",
        "**Automatic Table Creation**\tYou can use db.create_all() to create all defined tables automatically.\n",
        "\n",
        "\n",
        "\n"
      ]
    },
    {
      "cell_type": "markdown",
      "metadata": {
        "id": "6hmGi4SblatN"
      },
      "source": [
        "Que.13 What are Flask blueprints, and how are they useful?\n",
        "\n",
        "Ans:- Flask blueprints are a way to organize your Flask application into reusable and most importantly maintainable units. With blueprints, you can break your application into smaller, more manageable pieces, making it easier to maintain and scale.\n",
        "\n",
        "- Flask Blueprints are a way to organize and structure large Flask applications into smaller, manageable pieces (modules).\n",
        "They allow you to split your application into multiple files instead of writing everything in a single app.py\n",
        "\n",
        "- Blueprint is a reusable, modular component of a Flask application — like a mini-app inside your main app.\n",
        "\n",
        "Use Blueprint in Flask Applications\n",
        "The main idea behind Blueprints is to organize a Flask application into separate modules, each handling a specific feature with its own routes, templates, and static files. This helps keep the application structured and reduces complexity. Additionally, these modules can not only be integrated into the main Flask app but also reused in other applications if needed.\n",
        "\n",
        "**Steps to Use Blueprints:**\n",
        "\n",
        "- Create a blueprint in a separate module.\n",
        "\n",
        "- Define routes inside that blueprint.\n",
        "\n",
        "- Register the blueprint in the main application.\n",
        "\n",
        "\n"
      ]
    },
    {
      "cell_type": "markdown",
      "metadata": {
        "id": "A2j3C6ieo-WE"
      },
      "source": [
        "Que.13 What is the purpose of Flask's request object?\n",
        "\n",
        "Ans:- The request object in Flask is used to access data sent by the client (browser, API consumer) to the server.\n",
        "\n",
        "- The Flask request object is a crucial component for handling incoming HTTP requests in a Flask web application. It provides a way to access all the data sent by the client, including form data, URL parameters, headers, and more.\n",
        "\n",
        "- Request.form is used to execute a batch of requests, such as checking if the user has provided any password when requested by calling display(). This method will return an object containing information about each request made during that time (whereas Requests.listing returns only objects from matching filters). Request.form is used to render the requested text in JSON format, as it allows you to use multiple forms of presentation for different content types such as emails, links, etc.\n"
      ]
    },
    {
      "cell_type": "markdown",
      "metadata": {
        "id": "RSXgnfT4p8ok"
      },
      "source": [
        "Que.14  How do you create a RESTful API endpoint using Flask?\n",
        "\n",
        "Ans:- Creating a RESTful API in Flask is simple using basic route definitions with specific HTTP methods like GET, POST, PUT, and DELETE.\n",
        "\n",
        "Here's how to create a RESTful API endpoint using Flask:\n",
        "1. Install Flask and Flask-RESTful\n",
        "2. Import necessary modules\n",
        "3. Create a Flask app and API object\n",
        "4. Define a resource class\n",
        "Create a class that inherits from flask_restful.Resource.\n",
        "Implement methods for each HTTP verb you want to support (e.g., get, post, put, delete).\n",
        "Each method should return a Python object (like a dictionary or list) which Flask-RESTful will automatically convert to JSON.\n",
        "5. Add the resource to the API\n",
        "Use api.add_resource() to associate your resource class with a URL endpoint\n",
        "6. Run the app\n",
        "\n",
        "**Key Concepts:**\n",
        "Resources: Represent entities in your API (e.g., users, products).\n",
        "HTTP Methods: GET (retrieve), POST (create), PUT (update), DELETE (remove).\n",
        "Flask-RESTful: Simplifies building RESTful APIs by handling request parsing and response formatting.\n",
        "JSON: A common data format for APIs.\n"
      ]
    },
    {
      "cell_type": "markdown",
      "metadata": {
        "id": "ydRyLDpXrzeN"
      },
      "source": [
        "Que.15 What is the purpose of Flask's jsonify() function?\n",
        "\n",
        "Ans:- Flask's jsonify() function converts Python dictionaries or lists into JSON format and automatically sets the response's Content-Type header to application/json, making it suitable for creating JSON responses in web applications. It simplifies the process of returning JSON data from Flask routes and is commonly used in API development.\n",
        "\n",
        "Here's a more detailed explanation:\n",
        "\n",
        "JSON Conversion:\n",
        "jsonify() takes Python dictionaries or lists as input and converts them into a JSON string.\n",
        "\n",
        "Automatic Content-Type:\n",
        "It automatically sets the Content-Type header in the HTTP response to application/json, indicating that the response data is in JSON format. This is crucial for clients to understand the data format they are receiving.\n",
        "\n",
        "Convenience:\n",
        "jsonify() provides a convenient way to create JSON responses without manually handling serialization and header setting, simplifying the development process.\n",
        "\n",
        "Flask Response Object:\n",
        "jsonify() returns a Flask Response object which can be used to send back to the client.\n",
        "\n",
        "Common Use in APIs:\n",
        "jsonify() is widely used in web applications, especially in the creation of APIs, as it allows for efficient and standard-compliant JSON response handling.\n",
        "jsonify() method in Flask - Medium\n",
        "17 Dec 2023 — The jsonify method in Flask is a utility function\n"
      ]
    },
    {
      "cell_type": "markdown",
      "metadata": {
        "id": "j0MnxY3jsQ09"
      },
      "source": [
        "Que.16 Explain Flask’s url_for() function?\n",
        "\n",
        "Ans:- Flask is a straightforward, speedy, scalable library, used for building, compact web applications. It is a micro framework, that presents developers, useful tools, and, features, for coding REST APIs, and backend data processing, of web apps.\n",
        "\n",
        "Flask url_for() method\n",
        "The url_for() method, is used to prepare a URL, for a function dynamically, such that, changing URLs, in the application, is avoided. It accepts, the name of the view function, as the first argument, and, any number of keywords, to be sent(to the view function), as the second argument.\n",
        "\n",
        "            Syntax: url_for('<function_name>',<key> = <value>)\n"
      ]
    },
    {
      "cell_type": "markdown",
      "metadata": {
        "id": "9nbZieKWs-Ts"
      },
      "source": [
        "Que.17  How does Flask handle static files (CSS, JavaScript, etc.)?\n",
        "\n",
        "Ans:- Flask handles static files using a special folder named static/.\n",
        "It automatically serves files like CSS, JS, images, videos from that folder when requested via the browser.\n",
        "\n",
        "In Flask, static files refer to files such as CSS, JavaScript, images, videos, and audio files that do not change dynamically. Flask provides a built-in way to serve these static files using the /static directory.\n",
        "\n",
        "Default Behavior\n",
        "-\n",
        "1. Create the static/ Folder\n",
        "Put all your static files like:\n",
        "\n",
        "CSS → static/style.css\n",
        "\n",
        "JavaScript → static/script.js\n",
        "\n",
        "Images → static/logo.png\n",
        "\n",
        " 2. Access Static Files in HTML\n",
        "Use url_for('static', filename='yourfile') to load static files.\n",
        "\n",
        " 3. Basic app.py\n",
        "\n",
        " 4. Direct URL Access\n",
        "\n"
      ]
    },
    {
      "cell_type": "markdown",
      "metadata": {
        "id": "WrkYNn0Ct7kQ"
      },
      "source": [
        "Que.18 What is an API specification, and how does it help in building a Flask API4\n",
        "\n",
        "Ans:- A REST API (Representational State Transfer API) is a way for applications to communicate over the web using standard HTTP methods. It allows clients (such as web or mobile apps) to interact with a server by sending requests and receiving responses, typically in JSON format.\n",
        "\n",
        "Simple Words:\n",
        "API Specification = Instruction manual for your API\n",
        "\n",
        "It tells developers (and your Flask app) exactly how the API will behave, even before writing any code.\n",
        "\n",
        "\n"
      ]
    },
    {
      "cell_type": "markdown",
      "metadata": {
        "id": "lnEo81SflOkq"
      },
      "source": [
        "Que.19 What are HTTP status codes, and why are they important in a Flask API?\n",
        "\n",
        "Ans:- HTTP status codes are standardized 3-digit numbers returned by a server in response to a client's request made to an API or website. In a Flask API, they are very important because they tell the client what happened with their request — whether it was successful, had an error, or needs more action.\n",
        "\n",
        "**HTTP Status Codes Are Important in Flask APIs:**\n",
        "\n",
        " Communication: They clearly tell the client (browser or app) the result of their request.\n",
        "\n",
        " Debugging: Help developers know what went wrong (e.g., 404 = Not Found).\n",
        "\n",
        " Standards: They follow a universal protocol understood by all systems.\n",
        "\n",
        "Error Handling: Allow you to send custom error messages (like 400 for bad input).\n",
        "\n",
        "RESTful Practice: Good REST APIs use status codes to keep communication clean and meaningful.\n"
      ]
    },
    {
      "cell_type": "markdown",
      "metadata": {
        "id": "tTR6LOXpnAWy"
      },
      "source": [
        "Que.20 M How do you handle POST requests in Flask?\n",
        "\n",
        "Ans:- Handling POST requests in Flask involves defining routes that accept POST requests and accessing the data sent with the request. Here's a breakdown:\n",
        "\n",
        "1. Defining a route for POST requests:\n",
        "Use the @app.route() decorator and specify methods=['POST'] to indicate that the route should handle POST requests.\n",
        "You can also include other methods like GET if the same URL handles both types of requests.\n",
        "\n",
        "2. Accessing POST data:\n",
        "Flask provides the request object to access data sent in the request body.\n",
        "For form data, use request.form to access data as a dictionary-like object.\n",
        "For JSON data, use request.get_json() to parse the JSON data.\n",
        "\n",
        "3. Example with HTML form\n",
        "Create an HTML form that submits data to the Flask route using the POST method.\n",
        "The action attribute of the form specifies the URL of the Flask route.\n",
        "\n",
        "4. Example with JSON data\n",
        "Send JSON data to the Flask route using a tool like curl or fetch in JavaScript."
      ]
    },
    {
      "cell_type": "markdown",
      "metadata": {
        "id": "uOMpcuj0nrRQ"
      },
      "source": [
        "Que.21 How would you secure a Flask API?\n",
        "\n",
        "Ans:- Securing a Flask API is very important to protect your data, users, and server from unauthorized access or attacks.\n",
        "\n",
        "Here’s a step-by-step guide to securing your Flask API (with Hinglish explanations):\n",
        "\n",
        " 1. Use HTTPS\n",
        "Why: To encrypt data between client and server.\n",
        "How: Use a reverse proxy like Nginx with SSL certificate (Let’s Encrypt)\n",
        ": HTTP data public , HTTPS whenever data secure\n",
        "\n",
        "2. Input Validation & Sanitization\n",
        "Why: Prevent malicious inputs (e.g., SQL Injection, XSS).\n",
        "How: Validate and sanitize all input using libraries like:\n",
        "\n",
        "3. Use API Authentication\n",
        "Why: To allow only authorized users.\n",
        "\n",
        "4. API Key (simple)\n",
        "JWT (JSON Web Token) (more secure and stateless)\n",
        "OAuth 2.0 (for large-scale apps)\n",
        "\n",
        "5. Rate Limiting\n",
        "Why: To prevent abuse (like brute-force attacks).\n",
        "\n",
        "5. Use Flask-CORS Carefully\n",
        "Why: To control which domains can access your API.\n",
        "\n",
        "7. Hide Error Messages in Production\n",
        "Why: So attackers don’t get system info.\n",
        "\n",
        "\n",
        "8. Secure Configuration\n",
        "Never expose secrets in your code (e.g., API keys, DB passwords).\n",
        "Use .env file and python-dotenv\n",
        "\n",
        "8. Use CSRF Protection (for forms)\n",
        "Especially for frontend forms\n"
      ]
    },
    {
      "cell_type": "markdown",
      "metadata": {
        "id": "_RbPLjMuqBX7"
      },
      "source": [
        "Que.22 What is the significance of the Flask-RESTful extension?\n",
        "\n",
        "Ans:- The Flask-RESTful extension is a powerful tool that simplifies the creation of RESTful APIs using Flask. It helps you build clean, scalable, and maintainable APIs by adding structure and useful features to your Flask app.\n",
        "\n",
        "-  It provides a structured way to handle resources and HTTP methods, making it easier to build and organize APIs using Python and Flask. Essentially, it streamlines the process of creating web services that adhere to REST architectural principles\n",
        "\n",
        "**Significance of Flask-RESTful:-**\n",
        "\n",
        "1. Resource-Oriented Design\n",
        "You define API endpoints as classes using the Resource class, making your code more organized.\n",
        "\n",
        "2. Easy HTTP Method Handling\tIt allows you to easily define GET, POST, PUT, DELETE methods inside a single class.\n",
        "\n",
        "3. Automatic Request Parsing\tUse reqparse to validate and parse input data easily.\n",
        "\n",
        "4. Clean URL Routing\tAdds cleaner route handling using api.add_resource().\n",
        "\n",
        "5. Better Error Handling\tBuilt-in support for custom error responses.\n",
        "\n",
        "6. Response Formatting\tAutomatically returns responses in JSON format\n"
      ]
    },
    {
      "cell_type": "markdown",
      "metadata": {
        "id": "Kk7JWqDIs5-v"
      },
      "source": [
        "Que.23 What is the role of Flask’s session object?\n",
        "\n",
        "Ans:-  Flask, the session object provides a way to store user-specific data across multiple requests, similar to how cookies work but with added security features. It acts like a dictionary where you can store and retrieve data associated with a particular user's session. Flask uses cryptographically signed cookies to store session data on the user's browser, making it difficult for unauthorized users to tamper with the data.\n",
        "\n",
        "The session object in Flask is used to store data about a user across multiple requests (i.e., during a browsing session). It allows your web application to \"remember\" information like login status, preferences, or shopping cart items between different pages.\n",
        "\n",
        "**Role of Flask's session Object:\n",
        "1. Stores User Data Temporarily\tRemembers info like username, logged_in, etc.\n",
        "2. Persists Data Across Requests\tData stays available across multiple pages until the user logs out or the session expires.\n",
        "3. Secure (Client-side Storage)\tData is stored in the client browser as a signed cookie, so it cannot be tampered with.\n",
        "4. Lightweight Authentication\tUseful for storing login state without a full login system.\n"
      ]
    },
    {
      "cell_type": "code",
      "execution_count": null,
      "metadata": {
        "colab": {
          "base_uri": "https://localhost:8080/",
          "height": 106
        },
        "id": "0DmUmtmMtqGd",
        "outputId": "8b05f367-9c41-433e-8171-2eb05c95e1ee"
      },
      "outputs": [
        {
          "ename": "SyntaxError",
          "evalue": "invalid syntax (<ipython-input-3-4106999685>, line 6)",
          "output_type": "error",
          "traceback": [
            "\u001b[0;36m  File \u001b[0;32m\"<ipython-input-3-4106999685>\"\u001b[0;36m, line \u001b[0;32m6\u001b[0m\n\u001b[0;31m    pip install virtualenv\u001b[0m\n\u001b[0m        ^\u001b[0m\n\u001b[0;31mSyntaxError\u001b[0m\u001b[0;31m:\u001b[0m invalid syntax\n"
          ]
        }
      ],
      "source": [
        "Q.1 #Steps to Create a Basic Flask App\n",
        "\n",
        "#Step 1: Install Flask\n",
        "\n",
        "pip install Flask\n",
        "\n",
        "\n",
        "#Step 2: Create a Python File (e.g., app.py)\n",
        "\n",
        "\n",
        "#Step 3: Run the App\n",
        "\n",
        "\n",
        "\n",
        "\n",
        "\n",
        "\n"
      ]
    },
    {
      "cell_type": "code",
      "execution_count": null,
      "metadata": {
        "colab": {
          "background_save": true,
          "base_uri": "https://localhost:8080/"
        },
        "id": "41iSrZhDuBil",
        "outputId": "b1bf377d-6976-4ec7-b674-6fba29713ec4"
      },
      "outputs": [
        {
          "name": "stdout",
          "output_type": "stream",
          "text": [
            " * Serving Flask app '__main__'\n",
            " * Debug mode: on\n"
          ]
        },
        {
          "name": "stderr",
          "output_type": "stream",
          "text": [
            "INFO:werkzeug:\u001b[31m\u001b[1mWARNING: This is a development server. Do not use it in a production deployment. Use a production WSGI server instead.\u001b[0m\n",
            " * Running on http://127.0.0.1:5000\n",
            "INFO:werkzeug:\u001b[33mPress CTRL+C to quit\u001b[0m\n",
            "INFO:werkzeug: * Restarting with stat\n"
          ]
        }
      ],
      "source": [
        "from flask import Flask\n",
        "\n",
        "app = Flask(__name__)  # Create Flask app instance\n",
        "\n",
        "@app.route('/')\n",
        "def home():\n",
        "    return \"Hello, Flask! This is your first Flask app.\"\n",
        "\n",
        "if __name__ == '__main__':\n",
        "    app.run(debug=True)\n"
      ]
    },
    {
      "cell_type": "code",
      "execution_count": null,
      "metadata": {
        "id": "vXr4bGkByUoQ"
      },
      "outputs": [],
      "source": [
        "#Step 3: Run the App\n",
        "\n",
        "python app.py\n"
      ]
    },
    {
      "cell_type": "code",
      "execution_count": null,
      "metadata": {
        "id": "xYcJ9jCLyt_Z"
      },
      "outputs": [],
      "source": [
        "\n",
        "#Another Route (Optional):\n",
        "\n",
        "@app.route('/about')\n",
        "def about():\n",
        "    return \"This is the About Page\""
      ]
    },
    {
      "cell_type": "code",
      "execution_count": null,
      "metadata": {
        "colab": {
          "base_uri": "https://localhost:8080/",
          "height": 106
        },
        "id": "uinZnlmXyzgW",
        "outputId": "f7b718cf-6eea-4c7b-a738-b7002dd1ee03"
      },
      "outputs": [
        {
          "ename": "SyntaxError",
          "evalue": "invalid character '│' (U+2502) (ipython-input-1-2556590583.py, line 3)",
          "output_type": "error",
          "traceback": [
            "\u001b[0;36m  File \u001b[0;32m\"/tmp/ipython-input-1-2556590583.py\"\u001b[0;36m, line \u001b[0;32m3\u001b[0m\n\u001b[0;31m    │\u001b[0m\n\u001b[0m    ^\u001b[0m\n\u001b[0;31mSyntaxError\u001b[0m\u001b[0;31m:\u001b[0m invalid character '│' (U+2502)\n"
          ]
        }
      ],
      "source": [
        "Q.2 # serve static files like images or CSS in Flask4\n",
        "project_folder/\n",
        "│\n",
        "├── app.py\n",
        "├── static/\n",
        "│   ├── style.css\n",
        "│   ├── image.jpg\n",
        "\n"
      ]
    },
    {
      "cell_type": "code",
      "execution_count": null,
      "metadata": {
        "id": "2TldInGy0Bs5"
      },
      "outputs": [],
      "source": [
        "from flask import Flask, send_from_directory\n",
        "\n",
        "app = Flask(__name__)\n",
        "\n",
        "@app.route('/static/<path:filename>')\n",
        "def serve_static(filename):\n",
        "    return send_from_directory('static', filename)\n",
        "\n"
      ]
    },
    {
      "cell_type": "code",
      "execution_count": null,
      "metadata": {
        "colab": {
          "base_uri": "https://localhost:8080/",
          "height": 106
        },
        "id": "4h0zgpzP9efl",
        "outputId": "edfa213d-6d11-470e-8db1-ab4e1fe69ec2"
      },
      "outputs": [
        {
          "ename": "SyntaxError",
          "evalue": "invalid character '│' (U+2502) (ipython-input-5-1819924891.py, line 2)",
          "output_type": "error",
          "traceback": [
            "\u001b[0;36m  File \u001b[0;32m\"/tmp/ipython-input-5-1819924891.py\"\u001b[0;36m, line \u001b[0;32m2\u001b[0m\n\u001b[0;31m    │\u001b[0m\n\u001b[0m    ^\u001b[0m\n\u001b[0;31mSyntaxError\u001b[0m\u001b[0;31m:\u001b[0m invalid character '│' (U+2502)\n"
          ]
        }
      ],
      "source": [
        "your_project/\n",
        "│\n",
        "├── app.py\n",
        "├── static/\n",
        "│   ├── style.css\n",
        "│   └── image.png\n",
        "└── templates/\n",
        "    └── index.html\n"
      ]
    },
    {
      "cell_type": "code",
      "execution_count": null,
      "metadata": {
        "colab": {
          "background_save": true,
          "base_uri": "https://localhost:8080/"
        },
        "id": "VUjYf32O9zaK",
        "outputId": "af650107-e441-4608-bd65-700802c9d57e"
      },
      "outputs": [
        {
          "name": "stdout",
          "output_type": "stream",
          "text": [
            " * Serving Flask app '__main__'\n",
            " * Debug mode: on\n"
          ]
        },
        {
          "name": "stderr",
          "output_type": "stream",
          "text": [
            "INFO:werkzeug:\u001b[31m\u001b[1mWARNING: This is a development server. Do not use it in a production deployment. Use a production WSGI server instead.\u001b[0m\n",
            " * Running on http://127.0.0.1:5000\n",
            "INFO:werkzeug:\u001b[33mPress CTRL+C to quit\u001b[0m\n",
            "INFO:werkzeug: * Restarting with stat\n"
          ]
        }
      ],
      "source": [
        "from flask import Flask\n",
        "from flask import render_template\n",
        "\n",
        "app = Flask(__name__)\n",
        "\n",
        "\n",
        "@app.route(\"/\")\n",
        "def hello():\n",
        "    message = \"Hello, World\"\n",
        "    return render_template('index.html',\n",
        "                           message=message)\n",
        "\n",
        "# run the application\n",
        "if __name__ == \"__main__\":\n",
        "    app.run(debug=True)"
      ]
    },
    {
      "cell_type": "code",
      "execution_count": null,
      "metadata": {
        "id": "NddiA9Ln-ZaI"
      },
      "outputs": [],
      "source": [
        "Q.3 #define different routes with different HTTP methods in Flask?\n",
        "\n",
        "# Defining Multiple Methods for a Single Route Function:\n",
        "\n",
        "from flask import Flask, request\n",
        "\n",
        "app = Flask(__name__)\n",
        "\n",
        "@app.route('/login', methods=['GET', 'POST'])\n",
        "def login():\n",
        "    if request.method == 'POST':\n",
        "        # Handle POST request (e.g., process form data)\n",
        "        return \"Login successful (POST)\"\n",
        "    else:\n",
        "        # Handle GET request (e.g., display login form)\n",
        "        return \"Show login form (GET)\"\n",
        "\n",
        "if __name__ == '__main__':\n",
        "    app.run(debug=True)\n",
        "\n",
        "\n",
        "\n"
      ]
    },
    {
      "cell_type": "code",
      "execution_count": null,
      "metadata": {
        "id": "RL_sZ2Ky-3T0"
      },
      "outputs": [],
      "source": [
        "#2. Defining Separate Functions for Different Methods (Shortcut Decorators):\n",
        "\n",
        "from flask import Flask\n",
        "\n",
        "app = Flask(__name__)\n",
        "\n",
        "@app.get('/data')\n",
        "def get_data():\n",
        "    return \"Retrieving data (GET)\"\n",
        "\n",
        "@app.post('/data')\n",
        "def create_data():\n",
        "    return \"Creating new data (POST)\"\n",
        "\n",
        "@app.put('/data')\n",
        "def update_data():\n",
        "    return \"Updating data (PUT)\"\n",
        "\n",
        "@app.delete('/data')\n",
        "def delete_data():\n",
        "    return \"Deleting data (DELETE)\"\n",
        "\n",
        "if __name__ == '__main__':\n",
        "    app.run(debug=True)"
      ]
    },
    {
      "cell_type": "code",
      "execution_count": null,
      "metadata": {
        "id": "J-If7dB--9R7"
      },
      "outputs": [],
      "source": [
        "4. # render HTML templates in Flask.\n",
        "\n",
        "from flask import Flask, render_template\n",
        "\n",
        "app = Flask(__name__)\n",
        "\n",
        "@app.route('/')\n",
        "def home():\n",
        "    return render_template('index.html', name=\"Lokesh\")\n",
        "\n",
        "if __name__ == '__main__':\n",
        "    app.run(debug=True)\n",
        "\n",
        "\n",
        "\n"
      ]
    },
    {
      "cell_type": "code",
      "execution_count": null,
      "metadata": {
        "id": "nUCWDcTk_xxE"
      },
      "outputs": [],
      "source": [
        "Q.5\n",
        "\n",
        "# How can you generate URLs for routes in Flask using url_for\n",
        "\n",
        "\n",
        "from flask import Flask, url_for\n",
        "\n",
        "app = Flask(__name__)\n",
        "\n",
        "@app.route('/')\n",
        "def home():\n",
        "    return 'Home Page'\n",
        "\n",
        "@app.route('/about')\n",
        "def about():\n",
        "    return 'About Page'\n",
        "\n",
        "@app.route('/links')\n",
        "def links():\n",
        "    # Generate URL for \"about\" route\n",
        "    return f\"Go to: {url_for('about')}\"\n",
        "\n"
      ]
    },
    {
      "cell_type": "code",
      "execution_count": null,
      "metadata": {
        "id": "3hqqy5NMAqso"
      },
      "outputs": [],
      "source": [
        "Q.6\n",
        "\n",
        "#How do you handle forms in Flask4\n",
        "\n",
        "\n",
        "from flask import Flask, url_for\n",
        "\n",
        "app = Flask(__name__)\n",
        "\n",
        "@app.route('/')\n",
        "def home():\n",
        "    return 'Home Page'\n",
        "\n",
        "@app.route('/about')\n",
        "def about():\n",
        "    return 'About Page'\n",
        "\n",
        "@app.route('/links')\n",
        "def links():\n",
        "    # Generate URL for \"about\" route\n",
        "    return f\"Go to: {url_for('about')}\"\n"
      ]
    },
    {
      "cell_type": "code",
      "execution_count": null,
      "metadata": {
        "id": "JmYFCz9fBCtS"
      },
      "outputs": [],
      "source": [
        "Q.7\n",
        "\n",
        "#How can you validate form data in Flask\n",
        "from flask import Flask, request, render_template\n",
        "\n",
        "app = Flask(__name__)\n",
        "\n",
        "@app.route('/', methods=['GET', 'POST'])\n",
        "def form():\n",
        "    error = ''\n",
        "    if request.method == 'POST':\n",
        "        name = request.form.get('name')\n",
        "        if not name:\n",
        "            error = 'Name is required!'\n",
        "        else:\n",
        "            return f\"Hello, {name}!\"\n",
        "    return render_template('form.html', error=error)\n",
        "\n"
      ]
    },
    {
      "cell_type": "code",
      "execution_count": null,
      "metadata": {
        "id": "VJ7t9wVGBvKF"
      },
      "outputs": [],
      "source": [
        "Q.8\n",
        "\n",
        "\n",
        "\n",
        "#Import and Set a Secret Key\n",
        "from flask import Flask, session\n",
        "\n",
        "app = Flask(__name__)\n",
        "app.secret_key = 'your_secret_key'  # Needed to use sessions\n",
        "\n",
        "#Set Session Data\n",
        "\n",
        "@app.route('/login')\n",
        "def login():\n",
        "    session['username'] = 'lokesh'\n",
        "    return 'User logged in'\n",
        "\n",
        "# Access Session Data\n",
        "\n",
        "@app.route('/profile')\n",
        "def profile():\n",
        "    if 'username' in session:\n",
        "        return f\"Welcome, {session['username']}!\"\n",
        "    else:\n",
        "        return \"You are not logged in\"\n",
        "\n",
        "# Remove Session Data (Logout)\n",
        "@app.route('/logout')\n",
        "def logout():\n",
        "    session.pop('username', None)  # Remove username from session\n",
        "    return 'Logged out'\n",
        "\n"
      ]
    },
    {
      "cell_type": "code",
      "execution_count": null,
      "metadata": {
        "id": "8ym5wiwpCLvA"
      },
      "outputs": [],
      "source": [
        "Que.9\n",
        "\n",
        "#How do you redirect to a different route in Flask?\n",
        "\n",
        "#Redirect with Parameters:\n",
        "\n",
        "@app.route('/hello/<name>')\n",
        "def hello(name):\n",
        "    return f\"Hello, {name}!\"\n",
        "\n",
        "@app.route('/go')\n",
        "def go():\n",
        "    return redirect(url_for('hello', name='Lokesh'))\n",
        "\n",
        "\n",
        "\n",
        "\n"
      ]
    },
    {
      "cell_type": "code",
      "execution_count": null,
      "metadata": {
        "id": "OSNzmJQ6CwDL"
      },
      "outputs": [],
      "source": [
        "Que.10\n",
        "#How do you handle errors in Flask (e.g., 404)\n",
        "\n",
        "#Handling a 404 Error (Page Not Found)\n",
        "\n",
        "from flask import Flask, render_template\n",
        "\n",
        "app = Flask(__name__)\n",
        "\n",
        "@app.errorhandler(404)\n",
        "def page_not_found(e):\n",
        "    return render_template('404.html'), 404\n",
        "\n",
        "\n"
      ]
    },
    {
      "cell_type": "code",
      "execution_count": null,
      "metadata": {
        "id": "B8aK3mH3DMuG"
      },
      "outputs": [],
      "source": [
        "Que.11\n",
        "\n",
        "#How do you structure a Flask app using Blueprints?\n",
        "\n",
        "# Create the Blueprint Module\n",
        "from flask import Blueprint, render_template\n",
        "\n",
        "main = Blueprint('main', __name__)\n",
        "\n",
        "@main.route('/')\n",
        "def home():\n",
        "    return render_template('home.html')\n"
      ]
    },
    {
      "cell_type": "code",
      "execution_count": null,
      "metadata": {
        "id": "JLS-OC9aDj24"
      },
      "outputs": [],
      "source": [
        "Que.12\n",
        "\n",
        "#How do you define a custom Jinja filter in Flask?\n",
        "\n",
        "app = Flask(__name__)\n",
        "\n",
        "import jinja_filters\n",
        "\n",
        "@app.template_filter('filter_name1')\n",
        "def filter_name1(arg):\n",
        "    return jinja_filters.filter_name1(arg)\n",
        "\n",
        "@app.template_filter('filter_name2')\n",
        "def filter_name2(arg):\n",
        "    return jinja_filters.filter_name2(arg)\n",
        "\n",
        "...\n"
      ]
    },
    {
      "cell_type": "code",
      "execution_count": null,
      "metadata": {
        "id": "R3pF_JIUD1f3"
      },
      "outputs": [],
      "source": [
        "Que.13\n",
        "\n",
        "#How can you redirect with query parameters in Flask?\n",
        "\n",
        "#Redirect with Parameters:\n",
        "\n",
        "@app.route('/hello/<name>')\n",
        "def hello(name):\n",
        "    return f\"Hello, {name}!\"\n",
        "\n",
        "@app.route('/go')\n",
        "def go():\n",
        "    return redirect(url_for('hello', name='Lokesh'))\n",
        "\n",
        "\n",
        "\n"
      ]
    },
    {
      "cell_type": "code",
      "execution_count": null,
      "metadata": {
        "id": "tfVW5uYCEt8u"
      },
      "outputs": [],
      "source": [
        "Que.15\n",
        "\n",
        "\n",
        "\n",
        "#Method 1: Using jsonify()\n",
        "from flask import Flask, jsonify\n",
        "\n",
        "app = Flask(__name__)\n",
        "\n",
        "@app.route('/api')\n",
        "def api():\n",
        "    data = {\n",
        "        \"name\": \"Lokesh\",\n",
        "        \"age\": 23,\n",
        "        \"status\": \"active\"\n",
        "    }\n",
        "    return jsonify(data)\n",
        "\n",
        "\n"
      ]
    },
    {
      "cell_type": "code",
      "execution_count": null,
      "metadata": {
        "id": "6mTO7l-xFIXR"
      },
      "outputs": [],
      "source": [
        "#Method 2: Returning a dictionary (Flask 1.1+)\n",
        "\n",
        "@app.route('/info')\n",
        "def info():\n",
        "    return {\n",
        "        \"course\": \"Python\",\n",
        "        \"level\": \"Beginner\"\n",
        "    }\n"
      ]
    },
    {
      "cell_type": "code",
      "execution_count": null,
      "metadata": {
        "id": "9qxexSM2FMgP"
      },
      "outputs": [],
      "source": [
        "#Adding Custom Status Code:\n",
        "@app.route('/error')\n",
        "def error():\n",
        "    return jsonify({\"error\": \"Something went wrong\"}), 400\n"
      ]
    },
    {
      "cell_type": "code",
      "execution_count": null,
      "metadata": {
        "id": "GrWw3e86FV0V"
      },
      "outputs": [],
      "source": [
        "Que.15\n",
        "#How do you capture URL parameters in Flask?\n",
        "\n",
        "#1. Capturing Simple Parameters\n",
        "\n",
        "from flask import Flask\n",
        "\n",
        "app = Flask(__name__)\n",
        "\n",
        "@app.route('/user/<username>')\n",
        "def show_user(username):\n",
        "    return f\"Hello, {username}!\"\n",
        "\n",
        "\n"
      ]
    },
    {
      "cell_type": "code",
      "execution_count": null,
      "metadata": {
        "id": "CMUiMXWBFX_V"
      },
      "outputs": [],
      "source": []
    }
  ],
  "metadata": {
    "colab": {
      "provenance": []
    },
    "kernelspec": {
      "display_name": "Python 3",
      "name": "python3"
    },
    "language_info": {
      "name": "python"
    }
  },
  "nbformat": 4,
  "nbformat_minor": 0
}